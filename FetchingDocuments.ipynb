{
 "cells": [
  {
   "cell_type": "code",
   "execution_count": 1,
   "id": "9b258ef2-86aa-47db-85f7-40064aa88145",
   "metadata": {},
   "outputs": [],
   "source": [
    "from neo4j import GraphDatabase\n",
    "uri = \"bolt://localhost:7687\"\n",
    "user = \"neo4j\"\n",
    "password = \"neoPythonDBMS123456\"\n",
    "driver = GraphDatabase.driver(uri, auth=(user, password))"
   ]
  },
  {
   "cell_type": "markdown",
   "id": "4d678000-b00e-4755-94e0-a4d59385b1d3",
   "metadata": {},
   "source": [
    "## CODE TO FETCH NODES AND ITS PROPERTIES"
   ]
  },
  {
   "cell_type": "code",
   "execution_count": 74,
   "id": "641410d1-8bb3-43c6-8c24-b13e8ceb3877",
   "metadata": {},
   "outputs": [],
   "source": [
    "from neo4j import GraphDatabase\n",
    "\n",
    "class Neo4jRetriever:\n",
    "    def __init__(self, uri, user, password):\n",
    "        self.driver = GraphDatabase.driver(uri, auth=(user, password))\n",
    "\n",
    "    def close(self):\n",
    "        self.driver.close()\n",
    "\n",
    "    @staticmethod  \n",
    "    def fetch_and_return_nodes(tx):\n",
    "        query = \"MATCH (n) RETURN n\"\n",
    "        result = tx.run(query)\n",
    "        nodes = []\n",
    "        for record in result:\n",
    "            node = record['n']\n",
    "            nodes.append(node)\n",
    "        return nodes\n",
    "        # return [record[\"n\"] for record in result]\n",
    "        \n",
    "    @staticmethod \n",
    "    def fetch_and_return_node_properties(tx):\n",
    "        query = \"Match (n) return n LIMIT 25\"  # The Cypher query with alias 'n'\n",
    "        result = tx.run(query)       # Run the query within the transaction context\n",
    "        nodes_properties = []\n",
    "        for record in result:\n",
    "            node = record[\"n\"]       # Access the node using the alias 'n'\n",
    "            properties = dict(node)  # Convert the Node object to a dictionary\n",
    "            nodes_properties.append(properties)   # Collect the properties of the node\n",
    "        return nodes_properties   # Return the list of node properties\n",
    "\n",
    "    @staticmethod\n",
    "    def fetch_and_return_labels(tx):\n",
    "        query = \"CALL db.labels()\"\n",
    "        result = tx.run(query)\n",
    "\n",
    "        labels = []\n",
    "        for record in result:      \n",
    "            label = dict(record) \n",
    "            labels.append(label)   \n",
    "        return labels   \n",
    "\n",
    "\n",
    "    def get_nodes(self):\n",
    "        with self.driver.session() as session:\n",
    "            return session.execute_read(self.fetch_and_return_nodes)\n",
    "\n",
    "    def get_nodes_properties(self):\n",
    "        with self.driver.session() as session:\n",
    "            return session.execute_read(self.fetch_and_return_node_properties)\n",
    "\n",
    "    def get_labels(self):\n",
    "        with self.driver.session() as session:\n",
    "            return session.execute_read(self.fetch_and_return_labels)\n"
   ]
  },
  {
   "cell_type": "code",
   "execution_count": 66,
   "id": "d95ca7ef-19cd-442c-ba89-ecf46e660c6e",
   "metadata": {},
   "outputs": [
    {
     "name": "stdout",
     "output_type": "stream",
     "text": [
      "[{'label': 'Transaction'}]\n",
      "{'label': 'Transaction'}\n"
     ]
    }
   ],
   "source": [
    "# Usage\n",
    "uri = \"bolt://localhost:7687\"\n",
    "user = \"neo4j\"\n",
    "password = \"neoPythonDBMS123456\"\n",
    "\n",
    "retriever = Neo4jRetriever(uri, user, password)\n",
    "\n",
    "nodes = retriever.get_nodes()\n",
    "nodes_properties = retriever.get_nodes_properties()\n",
    "labels = retriever.get_labels()\n",
    "retriever.close()\n",
    "\n",
    "# print(nodes)\n",
    "# for node in nodes:\n",
    "#     print(node)\n",
    "\n",
    "# print(nodes_properties)\n",
    "# for properties in nodes_properties:\n",
    "#     print(properties)  \n",
    "\n",
    "print(labels)\n",
    "for label in labels:\n",
    "    print(label)"
   ]
  },
  {
   "cell_type": "code",
   "execution_count": null,
   "id": "013156bf-3a5c-4449-aba1-709145874f88",
   "metadata": {},
   "outputs": [],
   "source": []
  }
 ],
 "metadata": {
  "kernelspec": {
   "display_name": "Python 3 (ipykernel)",
   "language": "python",
   "name": "python3"
  },
  "language_info": {
   "codemirror_mode": {
    "name": "ipython",
    "version": 3
   },
   "file_extension": ".py",
   "mimetype": "text/x-python",
   "name": "python",
   "nbconvert_exporter": "python",
   "pygments_lexer": "ipython3",
   "version": "3.12.4"
  }
 },
 "nbformat": 4,
 "nbformat_minor": 5
}
