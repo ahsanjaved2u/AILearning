{
 "cells": [
  {
   "cell_type": "code",
   "execution_count": 28,
   "id": "feaac297-f8d1-487a-a7e2-ffbff323353b",
   "metadata": {},
   "outputs": [],
   "source": [
    "from neo4j import GraphDatabase"
   ]
  },
  {
   "cell_type": "markdown",
   "id": "4c441a77-ad59-4252-bedf-838b250e9bd3",
   "metadata": {},
   "source": [
    "## for a list"
   ]
  },
  {
   "cell_type": "code",
   "execution_count": 37,
   "id": "aa056846-caa0-4a8d-9a49-9628a7c2966d",
   "metadata": {},
   "outputs": [],
   "source": [
    "class Neo4jCreator:\n",
    "    def __init__(self, uri, user, password):\n",
    "        self.uri = uri\n",
    "        self.user = user\n",
    "        self.password = password\n",
    "        self.driver = GraphDatabase.driver(self.uri, auth=(self.user, self.password))\n",
    "\n",
    "    def close(self):\n",
    "            self.driver.close()\n",
    "\n",
    "    @staticmethod\n",
    "    def create_and_return_node(tx, label, properties):\n",
    "        for props in properties:\n",
    "            query = f\"CREATE (n:{label} $props) RETURN n\"\n",
    "            result = tx.run(query, props=props)\n",
    "        return result.single()[0]\n",
    "\n",
    "    def create_node(self, label, properties):\n",
    "            with self.driver.session() as session:\n",
    "                result = session.execute_write(self.create_and_return_node, label, properties)\n",
    "                return result"
   ]
  },
  {
   "cell_type": "code",
   "execution_count": 38,
   "id": "1c80f45a-0420-4ba2-afde-823a41b071c2",
   "metadata": {},
   "outputs": [
    {
     "name": "stdout",
     "output_type": "stream",
     "text": [
      "Created node: <Node element_id='4:7c2347bd-0571-4170-a8b9-a6aaa6bf4a41:15' labels=frozenset({'Person'}) properties={'name': 'person3', 'age': 30}>\n"
     ]
    }
   ],
   "source": [
    "if __name__ == \"__main__\":\n",
    "    uri = \"bolt://localhost:7687\"\n",
    "    user = \"neo4j\"\n",
    "    password = \"Pakistan@12345\"\n",
    "\n",
    "    neo4j_conn = Neo4jConnection(uri, user, password)\n",
    "    label = \"Person\"\n",
    "    # properties = {\"name\": \"Adam\", \"age\": 30}\n",
    "    properties = [{\"name\": \"person1\", \"age\": 30},{\"name\": \"person2\", \"age\": 30},{\"name\": \"person3\", \"age\": 30}]\n",
    "\n",
    "    node = neo4j_conn.create_node(label, properties)\n",
    "    print(f\"Created node: {node}\")\n",
    "\n",
    "    neo4j_conn.close()\n"
   ]
  },
  {
   "cell_type": "markdown",
   "id": "01c09fa5-1db4-44c4-96a4-dd75bafa12a7",
   "metadata": {},
   "source": [
    "## for single"
   ]
  },
  {
   "cell_type": "code",
   "execution_count": 29,
   "id": "854d74d0-5694-4370-ae00-93bd596322fa",
   "metadata": {},
   "outputs": [],
   "source": [
    "class Neo4jCreator:\n",
    "    def __init__(self, uri, user, password):\n",
    "        self.uri = uri\n",
    "        self.user = user\n",
    "        self.password = password\n",
    "        self.driver = GraphDatabase.driver(self.uri, auth=(self.user, self.password))\n",
    "\n",
    "    def close(self):\n",
    "            self.driver.close()\n",
    "\n",
    "    @staticmethod\n",
    "    def create_and_return_node(tx, label, properties):\n",
    "        query = f\"CREATE (n:{label} $properties) RETURN n\"\n",
    "        result = tx.run(query, properties=properties)\n",
    "        return result.single()[0]\n",
    "\n",
    "    def create_node(self, label, properties):\n",
    "            with self.driver.session() as session:\n",
    "                result = session.execute_write(self.create_and_return_node, label, properties)\n",
    "                return result\n"
   ]
  },
  {
   "cell_type": "code",
   "execution_count": 36,
   "id": "b2a65385-0915-4460-8ea7-5afb0446879d",
   "metadata": {},
   "outputs": [
    {
     "name": "stdout",
     "output_type": "stream",
     "text": [
      "Created node: <Node element_id='4:7c2347bd-0571-4170-a8b9-a6aaa6bf4a41:12' labels=frozenset({'Person'}) properties={'name': 'person3', 'age': 30}>\n"
     ]
    }
   ],
   "source": [
    "if __name__ == \"__main__\":\n",
    "    uri = \"bolt://localhost:7687\"\n",
    "    user = \"neo4j\"\n",
    "    password = \"Pakistan@12345\"\n",
    "\n",
    "    neo4j_conn = Neo4jConnection(uri, user, password)\n",
    "    label = \"Person\"\n",
    "    properties = {\"name\": \"Adam\", \"age\": 30}\n",
    "    properties = [{\"name\": \"person1\", \"age\": 30},{\"name\": \"person2\", \"age\": 30},{\"name\": \"person3\", \"age\": 30}]\n",
    "\n",
    "    node = neo4j_conn.create_node(label, **properties)\n",
    "    print(f\"Created node: {node}\")\n",
    "\n",
    "    neo4j_conn.close()\n"
   ]
  },
  {
   "cell_type": "code",
   "execution_count": null,
   "id": "b72370a5-98ee-49ef-b201-433180c89662",
   "metadata": {},
   "outputs": [],
   "source": []
  },
  {
   "cell_type": "code",
   "execution_count": null,
   "id": "7d3a7283-ec9a-4fda-a2e4-c9dede97d8c2",
   "metadata": {},
   "outputs": [],
   "source": []
  },
  {
   "cell_type": "code",
   "execution_count": null,
   "id": "f17a829c-a514-423d-bd70-c2c591f66287",
   "metadata": {},
   "outputs": [],
   "source": []
  }
 ],
 "metadata": {
  "kernelspec": {
   "display_name": "Python 3 (ipykernel)",
   "language": "python",
   "name": "python3"
  },
  "language_info": {
   "codemirror_mode": {
    "name": "ipython",
    "version": 3
   },
   "file_extension": ".py",
   "mimetype": "text/x-python",
   "name": "python",
   "nbconvert_exporter": "python",
   "pygments_lexer": "ipython3",
   "version": "3.12.4"
  }
 },
 "nbformat": 4,
 "nbformat_minor": 5
}
